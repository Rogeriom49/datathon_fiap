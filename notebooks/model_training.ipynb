{
 "cells": [
  {
   "cell_type": "code",
   "execution_count": 1,
   "metadata": {},
   "outputs": [],
   "source": [
    "import pandas as pd\n",
    "import numpy as np\n",
    "from sklearn.model_selection import train_test_split\n",
    "from sklearn.ensemble import RandomForestClassifier\n",
    "from sklearn import svm\n",
    "from sklearn .linear_model import LogisticRegression\n",
    "from sklearn.metrics import accuracy_score\n",
    "from sklearn.metrics import confusion_matrix\n",
    "from sklearn.metrics import classification_report"
   ]
  },
  {
   "cell_type": "code",
   "execution_count": 6,
   "metadata": {},
   "outputs": [],
   "source": [
    "df = pd.read_csv('../datasets/alunos.csv', sep=',')"
   ]
  },
  {
   "cell_type": "code",
   "execution_count": 7,
   "metadata": {},
   "outputs": [
    {
     "data": {
      "text/html": [
       "<div>\n",
       "<style scoped>\n",
       "    .dataframe tbody tr th:only-of-type {\n",
       "        vertical-align: middle;\n",
       "    }\n",
       "\n",
       "    .dataframe tbody tr th {\n",
       "        vertical-align: top;\n",
       "    }\n",
       "\n",
       "    .dataframe thead th {\n",
       "        text-align: right;\n",
       "    }\n",
       "</style>\n",
       "<table border=\"1\" class=\"dataframe\">\n",
       "  <thead>\n",
       "    <tr style=\"text-align: right;\">\n",
       "      <th></th>\n",
       "      <th>NOME</th>\n",
       "      <th>ANO</th>\n",
       "      <th>PONTO_VIRADA</th>\n",
       "      <th>FASE</th>\n",
       "      <th>TURMA</th>\n",
       "      <th>PEDRA</th>\n",
       "      <th>INDE</th>\n",
       "      <th>IAA</th>\n",
       "      <th>IEG</th>\n",
       "      <th>IPS</th>\n",
       "      <th>IDA</th>\n",
       "      <th>IPP</th>\n",
       "      <th>IPV</th>\n",
       "      <th>IAN</th>\n",
       "      <th>IDADE</th>\n",
       "    </tr>\n",
       "  </thead>\n",
       "  <tbody>\n",
       "    <tr>\n",
       "      <th>0</th>\n",
       "      <td>ALUNO-1</td>\n",
       "      <td>2020</td>\n",
       "      <td>Não</td>\n",
       "      <td>2.0</td>\n",
       "      <td>H</td>\n",
       "      <td>Ametista</td>\n",
       "      <td>7.88</td>\n",
       "      <td>8.50</td>\n",
       "      <td>8.7</td>\n",
       "      <td>7.50</td>\n",
       "      <td>7.00</td>\n",
       "      <td>5.94</td>\n",
       "      <td>7.75</td>\n",
       "      <td>10.0</td>\n",
       "      <td>11.0</td>\n",
       "    </tr>\n",
       "    <tr>\n",
       "      <th>1</th>\n",
       "      <td>ALUNO-3</td>\n",
       "      <td>2020</td>\n",
       "      <td>Não</td>\n",
       "      <td>3.0</td>\n",
       "      <td>H</td>\n",
       "      <td>Ametista</td>\n",
       "      <td>7.86</td>\n",
       "      <td>7.92</td>\n",
       "      <td>8.9</td>\n",
       "      <td>7.50</td>\n",
       "      <td>5.50</td>\n",
       "      <td>8.12</td>\n",
       "      <td>8.11</td>\n",
       "      <td>10.0</td>\n",
       "      <td>12.0</td>\n",
       "    </tr>\n",
       "    <tr>\n",
       "      <th>2</th>\n",
       "      <td>ALUNO-4</td>\n",
       "      <td>2020</td>\n",
       "      <td>Não</td>\n",
       "      <td>1.0</td>\n",
       "      <td>D</td>\n",
       "      <td>Quartzo</td>\n",
       "      <td>5.08</td>\n",
       "      <td>8.00</td>\n",
       "      <td>4.1</td>\n",
       "      <td>6.88</td>\n",
       "      <td>0.00</td>\n",
       "      <td>7.19</td>\n",
       "      <td>7.75</td>\n",
       "      <td>5.0</td>\n",
       "      <td>10.0</td>\n",
       "    </tr>\n",
       "    <tr>\n",
       "      <th>3</th>\n",
       "      <td>ALUNO-5</td>\n",
       "      <td>2020</td>\n",
       "      <td>Não</td>\n",
       "      <td>2.0</td>\n",
       "      <td>M</td>\n",
       "      <td>Ametista</td>\n",
       "      <td>8.08</td>\n",
       "      <td>7.50</td>\n",
       "      <td>8.0</td>\n",
       "      <td>7.50</td>\n",
       "      <td>7.50</td>\n",
       "      <td>8.44</td>\n",
       "      <td>8.17</td>\n",
       "      <td>10.0</td>\n",
       "      <td>10.0</td>\n",
       "    </tr>\n",
       "    <tr>\n",
       "      <th>4</th>\n",
       "      <td>ALUNO-8</td>\n",
       "      <td>2020</td>\n",
       "      <td>Sim</td>\n",
       "      <td>4.0</td>\n",
       "      <td>L</td>\n",
       "      <td>Ametista</td>\n",
       "      <td>8.38</td>\n",
       "      <td>8.33</td>\n",
       "      <td>9.9</td>\n",
       "      <td>4.38</td>\n",
       "      <td>7.33</td>\n",
       "      <td>8.75</td>\n",
       "      <td>8.94</td>\n",
       "      <td>10.0</td>\n",
       "      <td>14.0</td>\n",
       "    </tr>\n",
       "  </tbody>\n",
       "</table>\n",
       "</div>"
      ],
      "text/plain": [
       "      NOME   ANO PONTO_VIRADA  FASE TURMA     PEDRA  INDE   IAA  IEG   IPS  \\\n",
       "0  ALUNO-1  2020          Não   2.0     H  Ametista  7.88  8.50  8.7  7.50   \n",
       "1  ALUNO-3  2020          Não   3.0     H  Ametista  7.86  7.92  8.9  7.50   \n",
       "2  ALUNO-4  2020          Não   1.0     D   Quartzo  5.08  8.00  4.1  6.88   \n",
       "3  ALUNO-5  2020          Não   2.0     M  Ametista  8.08  7.50  8.0  7.50   \n",
       "4  ALUNO-8  2020          Sim   4.0     L  Ametista  8.38  8.33  9.9  4.38   \n",
       "\n",
       "    IDA   IPP   IPV   IAN  IDADE  \n",
       "0  7.00  5.94  7.75  10.0   11.0  \n",
       "1  5.50  8.12  8.11  10.0   12.0  \n",
       "2  0.00  7.19  7.75   5.0   10.0  \n",
       "3  7.50  8.44  8.17  10.0   10.0  \n",
       "4  7.33  8.75  8.94  10.0   14.0  "
      ]
     },
     "execution_count": 7,
     "metadata": {},
     "output_type": "execute_result"
    }
   ],
   "source": [
    "df.head()"
   ]
  },
  {
   "cell_type": "code",
   "execution_count": 8,
   "metadata": {},
   "outputs": [],
   "source": [
    "df_model = df.copy()"
   ]
  },
  {
   "cell_type": "code",
   "execution_count": 13,
   "metadata": {},
   "outputs": [],
   "source": [
    "df_model_2022 = df_model.query('ANO == 2022')"
   ]
  },
  {
   "cell_type": "code",
   "execution_count": 22,
   "metadata": {},
   "outputs": [],
   "source": [
    "df_model_2022_sim = df_model_2022.query(\"\"\"  PONTO_VIRADA == 'Sim' and PEDRA == 'Topázio' \"\"\")\n",
    "df_model_2022_nao = df_model_2022.query(\"\"\"  PONTO_VIRADA == 'Não' and PEDRA == 'Topázio' \"\"\")"
   ]
  },
  {
   "cell_type": "code",
   "execution_count": null,
   "metadata": {},
   "outputs": [],
   "source": []
  }
 ],
 "metadata": {
  "kernelspec": {
   "display_name": "venv",
   "language": "python",
   "name": "python3"
  },
  "language_info": {
   "codemirror_mode": {
    "name": "ipython",
    "version": 3
   },
   "file_extension": ".py",
   "mimetype": "text/x-python",
   "name": "python",
   "nbconvert_exporter": "python",
   "pygments_lexer": "ipython3",
   "version": "3.12.2"
  }
 },
 "nbformat": 4,
 "nbformat_minor": 2
}
