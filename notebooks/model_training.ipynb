{
 "cells": [
  {
   "cell_type": "code",
   "execution_count": 110,
   "metadata": {},
   "outputs": [],
   "source": [
    "import numpy as np\n",
    "import pandas as pd\n",
    "from sklearn.model_selection import train_test_split, cross_val_score\n",
    "from sklearn.metrics import accuracy_score, f1_score, precision_score, recall_score, classification_report, confusion_matrix\n",
    "from sklearn.ensemble import RandomForestClassifier\n",
    "from sklearn.svm import SVC\n",
    "from sklearn.linear_model import LogisticRegression\n",
    "from sklearn.tree import DecisionTreeClassifier\n",
    "from sklearn.neighbors import KNeighborsClassifier\n",
    "from xgboost import XGBClassifier\n",
    "from imblearn.over_sampling import SMOTE\n",
    "import joblib\n",
    "\n",
    "import warnings\n",
    "warnings.filterwarnings(\"ignore\")"
   ]
  },
  {
   "cell_type": "code",
   "execution_count": 58,
   "metadata": {},
   "outputs": [],
   "source": [
    "df = pd.read_csv('https://raw.githubusercontent.com/Rogeriom49/datathon_fiap/refs/heads/main/datasets/alunos.csv')"
   ]
  },
  {
   "cell_type": "code",
   "execution_count": 59,
   "metadata": {},
   "outputs": [
    {
     "data": {
      "text/html": [
       "<div>\n",
       "<style scoped>\n",
       "    .dataframe tbody tr th:only-of-type {\n",
       "        vertical-align: middle;\n",
       "    }\n",
       "\n",
       "    .dataframe tbody tr th {\n",
       "        vertical-align: top;\n",
       "    }\n",
       "\n",
       "    .dataframe thead th {\n",
       "        text-align: right;\n",
       "    }\n",
       "</style>\n",
       "<table border=\"1\" class=\"dataframe\">\n",
       "  <thead>\n",
       "    <tr style=\"text-align: right;\">\n",
       "      <th></th>\n",
       "      <th>NOME</th>\n",
       "      <th>ANO</th>\n",
       "      <th>PONTO_VIRADA</th>\n",
       "      <th>FASE</th>\n",
       "      <th>TURMA</th>\n",
       "      <th>PEDRA</th>\n",
       "      <th>INDE</th>\n",
       "      <th>IAA</th>\n",
       "      <th>IEG</th>\n",
       "      <th>IPS</th>\n",
       "      <th>IDA</th>\n",
       "      <th>IPP</th>\n",
       "      <th>IPV</th>\n",
       "      <th>IAN</th>\n",
       "      <th>IDADE</th>\n",
       "    </tr>\n",
       "  </thead>\n",
       "  <tbody>\n",
       "    <tr>\n",
       "      <th>0</th>\n",
       "      <td>ALUNO-1</td>\n",
       "      <td>2020</td>\n",
       "      <td>Não</td>\n",
       "      <td>2.0</td>\n",
       "      <td>H</td>\n",
       "      <td>Ametista</td>\n",
       "      <td>7.88</td>\n",
       "      <td>8.50</td>\n",
       "      <td>8.7</td>\n",
       "      <td>7.50</td>\n",
       "      <td>7.00</td>\n",
       "      <td>5.94</td>\n",
       "      <td>7.75</td>\n",
       "      <td>10.0</td>\n",
       "      <td>11.0</td>\n",
       "    </tr>\n",
       "    <tr>\n",
       "      <th>1</th>\n",
       "      <td>ALUNO-3</td>\n",
       "      <td>2020</td>\n",
       "      <td>Não</td>\n",
       "      <td>3.0</td>\n",
       "      <td>H</td>\n",
       "      <td>Ametista</td>\n",
       "      <td>7.86</td>\n",
       "      <td>7.92</td>\n",
       "      <td>8.9</td>\n",
       "      <td>7.50</td>\n",
       "      <td>5.50</td>\n",
       "      <td>8.12</td>\n",
       "      <td>8.11</td>\n",
       "      <td>10.0</td>\n",
       "      <td>12.0</td>\n",
       "    </tr>\n",
       "    <tr>\n",
       "      <th>2</th>\n",
       "      <td>ALUNO-4</td>\n",
       "      <td>2020</td>\n",
       "      <td>Não</td>\n",
       "      <td>1.0</td>\n",
       "      <td>D</td>\n",
       "      <td>Quartzo</td>\n",
       "      <td>5.08</td>\n",
       "      <td>8.00</td>\n",
       "      <td>4.1</td>\n",
       "      <td>6.88</td>\n",
       "      <td>0.00</td>\n",
       "      <td>7.19</td>\n",
       "      <td>7.75</td>\n",
       "      <td>5.0</td>\n",
       "      <td>10.0</td>\n",
       "    </tr>\n",
       "    <tr>\n",
       "      <th>3</th>\n",
       "      <td>ALUNO-5</td>\n",
       "      <td>2020</td>\n",
       "      <td>Não</td>\n",
       "      <td>2.0</td>\n",
       "      <td>M</td>\n",
       "      <td>Ametista</td>\n",
       "      <td>8.08</td>\n",
       "      <td>7.50</td>\n",
       "      <td>8.0</td>\n",
       "      <td>7.50</td>\n",
       "      <td>7.50</td>\n",
       "      <td>8.44</td>\n",
       "      <td>8.17</td>\n",
       "      <td>10.0</td>\n",
       "      <td>10.0</td>\n",
       "    </tr>\n",
       "    <tr>\n",
       "      <th>4</th>\n",
       "      <td>ALUNO-8</td>\n",
       "      <td>2020</td>\n",
       "      <td>Sim</td>\n",
       "      <td>4.0</td>\n",
       "      <td>L</td>\n",
       "      <td>Ametista</td>\n",
       "      <td>8.38</td>\n",
       "      <td>8.33</td>\n",
       "      <td>9.9</td>\n",
       "      <td>4.38</td>\n",
       "      <td>7.33</td>\n",
       "      <td>8.75</td>\n",
       "      <td>8.94</td>\n",
       "      <td>10.0</td>\n",
       "      <td>14.0</td>\n",
       "    </tr>\n",
       "  </tbody>\n",
       "</table>\n",
       "</div>"
      ],
      "text/plain": [
       "      NOME   ANO PONTO_VIRADA  FASE TURMA     PEDRA  INDE   IAA  IEG   IPS  \\\n",
       "0  ALUNO-1  2020          Não   2.0     H  Ametista  7.88  8.50  8.7  7.50   \n",
       "1  ALUNO-3  2020          Não   3.0     H  Ametista  7.86  7.92  8.9  7.50   \n",
       "2  ALUNO-4  2020          Não   1.0     D   Quartzo  5.08  8.00  4.1  6.88   \n",
       "3  ALUNO-5  2020          Não   2.0     M  Ametista  8.08  7.50  8.0  7.50   \n",
       "4  ALUNO-8  2020          Sim   4.0     L  Ametista  8.38  8.33  9.9  4.38   \n",
       "\n",
       "    IDA   IPP   IPV   IAN  IDADE  \n",
       "0  7.00  5.94  7.75  10.0   11.0  \n",
       "1  5.50  8.12  8.11  10.0   12.0  \n",
       "2  0.00  7.19  7.75   5.0   10.0  \n",
       "3  7.50  8.44  8.17  10.0   10.0  \n",
       "4  7.33  8.75  8.94  10.0   14.0  "
      ]
     },
     "execution_count": 59,
     "metadata": {},
     "output_type": "execute_result"
    }
   ],
   "source": [
    "df.head()"
   ]
  },
  {
   "cell_type": "code",
   "execution_count": 60,
   "metadata": {},
   "outputs": [],
   "source": [
    "df_model = df.drop(columns=['NOME','PONTO_VIRADA','FASE','TURMA'])"
   ]
  },
  {
   "cell_type": "code",
   "execution_count": 61,
   "metadata": {},
   "outputs": [],
   "source": [
    "# 0 = Em risco; 1 = Não está em risco\n",
    "df_model['RISCO'] = df_model['PEDRA'].apply(lambda x: 1 if x != 'Quartzo' else 0).drop(columns=['PEDRA'])"
   ]
  },
  {
   "cell_type": "code",
   "execution_count": 62,
   "metadata": {},
   "outputs": [],
   "source": [
    "df_model_new = df_model.fillna(0)"
   ]
  },
  {
   "cell_type": "code",
   "execution_count": 63,
   "metadata": {},
   "outputs": [
    {
     "data": {
      "text/html": [
       "<div>\n",
       "<style scoped>\n",
       "    .dataframe tbody tr th:only-of-type {\n",
       "        vertical-align: middle;\n",
       "    }\n",
       "\n",
       "    .dataframe tbody tr th {\n",
       "        vertical-align: top;\n",
       "    }\n",
       "\n",
       "    .dataframe thead th {\n",
       "        text-align: right;\n",
       "    }\n",
       "</style>\n",
       "<table border=\"1\" class=\"dataframe\">\n",
       "  <thead>\n",
       "    <tr style=\"text-align: right;\">\n",
       "      <th></th>\n",
       "      <th>ANO</th>\n",
       "      <th>PEDRA</th>\n",
       "      <th>INDE</th>\n",
       "      <th>IAA</th>\n",
       "      <th>IEG</th>\n",
       "      <th>IPS</th>\n",
       "      <th>IDA</th>\n",
       "      <th>IPP</th>\n",
       "      <th>IPV</th>\n",
       "      <th>IAN</th>\n",
       "      <th>IDADE</th>\n",
       "      <th>RISCO</th>\n",
       "    </tr>\n",
       "  </thead>\n",
       "  <tbody>\n",
       "    <tr>\n",
       "      <th>0</th>\n",
       "      <td>2020</td>\n",
       "      <td>Ametista</td>\n",
       "      <td>7.88</td>\n",
       "      <td>8.50</td>\n",
       "      <td>8.70</td>\n",
       "      <td>7.50</td>\n",
       "      <td>7.00</td>\n",
       "      <td>5.94</td>\n",
       "      <td>7.75</td>\n",
       "      <td>10.0</td>\n",
       "      <td>11.0</td>\n",
       "      <td>1</td>\n",
       "    </tr>\n",
       "    <tr>\n",
       "      <th>1</th>\n",
       "      <td>2020</td>\n",
       "      <td>Ametista</td>\n",
       "      <td>7.86</td>\n",
       "      <td>7.92</td>\n",
       "      <td>8.90</td>\n",
       "      <td>7.50</td>\n",
       "      <td>5.50</td>\n",
       "      <td>8.12</td>\n",
       "      <td>8.11</td>\n",
       "      <td>10.0</td>\n",
       "      <td>12.0</td>\n",
       "      <td>1</td>\n",
       "    </tr>\n",
       "    <tr>\n",
       "      <th>2</th>\n",
       "      <td>2020</td>\n",
       "      <td>Quartzo</td>\n",
       "      <td>5.08</td>\n",
       "      <td>8.00</td>\n",
       "      <td>4.10</td>\n",
       "      <td>6.88</td>\n",
       "      <td>0.00</td>\n",
       "      <td>7.19</td>\n",
       "      <td>7.75</td>\n",
       "      <td>5.0</td>\n",
       "      <td>10.0</td>\n",
       "      <td>0</td>\n",
       "    </tr>\n",
       "    <tr>\n",
       "      <th>3</th>\n",
       "      <td>2020</td>\n",
       "      <td>Ametista</td>\n",
       "      <td>8.08</td>\n",
       "      <td>7.50</td>\n",
       "      <td>8.00</td>\n",
       "      <td>7.50</td>\n",
       "      <td>7.50</td>\n",
       "      <td>8.44</td>\n",
       "      <td>8.17</td>\n",
       "      <td>10.0</td>\n",
       "      <td>10.0</td>\n",
       "      <td>1</td>\n",
       "    </tr>\n",
       "    <tr>\n",
       "      <th>4</th>\n",
       "      <td>2020</td>\n",
       "      <td>Ametista</td>\n",
       "      <td>8.38</td>\n",
       "      <td>8.33</td>\n",
       "      <td>9.90</td>\n",
       "      <td>4.38</td>\n",
       "      <td>7.33</td>\n",
       "      <td>8.75</td>\n",
       "      <td>8.94</td>\n",
       "      <td>10.0</td>\n",
       "      <td>14.0</td>\n",
       "      <td>1</td>\n",
       "    </tr>\n",
       "    <tr>\n",
       "      <th>...</th>\n",
       "      <td>...</td>\n",
       "      <td>...</td>\n",
       "      <td>...</td>\n",
       "      <td>...</td>\n",
       "      <td>...</td>\n",
       "      <td>...</td>\n",
       "      <td>...</td>\n",
       "      <td>...</td>\n",
       "      <td>...</td>\n",
       "      <td>...</td>\n",
       "      <td>...</td>\n",
       "      <td>...</td>\n",
       "    </tr>\n",
       "    <tr>\n",
       "      <th>2271</th>\n",
       "      <td>2022</td>\n",
       "      <td>Topázio</td>\n",
       "      <td>8.15</td>\n",
       "      <td>7.92</td>\n",
       "      <td>9.67</td>\n",
       "      <td>7.50</td>\n",
       "      <td>7.75</td>\n",
       "      <td>6.25</td>\n",
       "      <td>7.50</td>\n",
       "      <td>10.0</td>\n",
       "      <td>0.0</td>\n",
       "      <td>1</td>\n",
       "    </tr>\n",
       "    <tr>\n",
       "      <th>2272</th>\n",
       "      <td>2022</td>\n",
       "      <td>Quartzo</td>\n",
       "      <td>5.67</td>\n",
       "      <td>7.42</td>\n",
       "      <td>6.47</td>\n",
       "      <td>6.25</td>\n",
       "      <td>2.00</td>\n",
       "      <td>6.25</td>\n",
       "      <td>7.44</td>\n",
       "      <td>5.0</td>\n",
       "      <td>11.0</td>\n",
       "      <td>0</td>\n",
       "    </tr>\n",
       "    <tr>\n",
       "      <th>2273</th>\n",
       "      <td>2022</td>\n",
       "      <td>Topázio</td>\n",
       "      <td>8.14</td>\n",
       "      <td>9.00</td>\n",
       "      <td>9.03</td>\n",
       "      <td>7.50</td>\n",
       "      <td>9.00</td>\n",
       "      <td>5.62</td>\n",
       "      <td>9.08</td>\n",
       "      <td>5.0</td>\n",
       "      <td>0.0</td>\n",
       "      <td>1</td>\n",
       "    </tr>\n",
       "    <tr>\n",
       "      <th>2274</th>\n",
       "      <td>2022</td>\n",
       "      <td>Ágata</td>\n",
       "      <td>6.75</td>\n",
       "      <td>8.33</td>\n",
       "      <td>9.18</td>\n",
       "      <td>5.62</td>\n",
       "      <td>5.90</td>\n",
       "      <td>6.72</td>\n",
       "      <td>5.83</td>\n",
       "      <td>5.0</td>\n",
       "      <td>13.0</td>\n",
       "      <td>1</td>\n",
       "    </tr>\n",
       "    <tr>\n",
       "      <th>2275</th>\n",
       "      <td>2022</td>\n",
       "      <td>Ágata</td>\n",
       "      <td>6.40</td>\n",
       "      <td>7.92</td>\n",
       "      <td>7.54</td>\n",
       "      <td>7.50</td>\n",
       "      <td>4.50</td>\n",
       "      <td>7.50</td>\n",
       "      <td>6.00</td>\n",
       "      <td>5.0</td>\n",
       "      <td>0.0</td>\n",
       "      <td>1</td>\n",
       "    </tr>\n",
       "  </tbody>\n",
       "</table>\n",
       "<p>2276 rows × 12 columns</p>\n",
       "</div>"
      ],
      "text/plain": [
       "       ANO     PEDRA  INDE   IAA   IEG   IPS   IDA   IPP   IPV   IAN  IDADE  \\\n",
       "0     2020  Ametista  7.88  8.50  8.70  7.50  7.00  5.94  7.75  10.0   11.0   \n",
       "1     2020  Ametista  7.86  7.92  8.90  7.50  5.50  8.12  8.11  10.0   12.0   \n",
       "2     2020   Quartzo  5.08  8.00  4.10  6.88  0.00  7.19  7.75   5.0   10.0   \n",
       "3     2020  Ametista  8.08  7.50  8.00  7.50  7.50  8.44  8.17  10.0   10.0   \n",
       "4     2020  Ametista  8.38  8.33  9.90  4.38  7.33  8.75  8.94  10.0   14.0   \n",
       "...    ...       ...   ...   ...   ...   ...   ...   ...   ...   ...    ...   \n",
       "2271  2022   Topázio  8.15  7.92  9.67  7.50  7.75  6.25  7.50  10.0    0.0   \n",
       "2272  2022   Quartzo  5.67  7.42  6.47  6.25  2.00  6.25  7.44   5.0   11.0   \n",
       "2273  2022   Topázio  8.14  9.00  9.03  7.50  9.00  5.62  9.08   5.0    0.0   \n",
       "2274  2022     Ágata  6.75  8.33  9.18  5.62  5.90  6.72  5.83   5.0   13.0   \n",
       "2275  2022     Ágata  6.40  7.92  7.54  7.50  4.50  7.50  6.00   5.0    0.0   \n",
       "\n",
       "      RISCO  \n",
       "0         1  \n",
       "1         1  \n",
       "2         0  \n",
       "3         1  \n",
       "4         1  \n",
       "...     ...  \n",
       "2271      1  \n",
       "2272      0  \n",
       "2273      1  \n",
       "2274      1  \n",
       "2275      1  \n",
       "\n",
       "[2276 rows x 12 columns]"
      ]
     },
     "execution_count": 63,
     "metadata": {},
     "output_type": "execute_result"
    }
   ],
   "source": [
    "df_model_new"
   ]
  },
  {
   "cell_type": "markdown",
   "metadata": {},
   "source": [
    "Ordem dos dados que devem ser passado na previsão\n",
    "ANO\n",
    "IAA\n",
    "IEG\n",
    "IPS\n",
    "IDA\n",
    "IPP\n",
    "IPV\n",
    "IAN"
   ]
  },
  {
   "cell_type": "code",
   "execution_count": 97,
   "metadata": {},
   "outputs": [
    {
     "data": {
      "text/plain": [
       "RISCO\n",
       "1    1904\n",
       "0     372\n",
       "Name: count, dtype: int64"
      ]
     },
     "execution_count": 97,
     "metadata": {},
     "output_type": "execute_result"
    }
   ],
   "source": [
    "df_model_new['RISCO'].value_counts()"
   ]
  },
  {
   "cell_type": "code",
   "execution_count": 127,
   "metadata": {},
   "outputs": [],
   "source": [
    "X = df_model_new.drop(columns=['RISCO', 'PEDRA','IDADE','INDE'])\n",
    "y = df_model_new['RISCO']"
   ]
  },
  {
   "cell_type": "code",
   "execution_count": 128,
   "metadata": {},
   "outputs": [],
   "source": [
    "X_train, X_test, y_train, y_test = train_test_split(X, y, test_size=0.2, random_state=42)"
   ]
  },
  {
   "cell_type": "code",
   "execution_count": 129,
   "metadata": {},
   "outputs": [],
   "source": [
    "smote = SMOTE(random_state=42)\n",
    "X_train_resempled, y_train_resampled = smote.fit_resample(X_train, y_train)"
   ]
  },
  {
   "cell_type": "code",
   "execution_count": 130,
   "metadata": {},
   "outputs": [],
   "source": [
    "models = {\n",
    "    \"Random Forest\": RandomForestClassifier(),\n",
    "    \"Support Vector Machine\": SVC(),\n",
    "    \"Logistic Regression\": LogisticRegression(),\n",
    "    \"Decision Tree\": DecisionTreeClassifier(),\n",
    "    \"K-Nearest Neighbors\": KNeighborsClassifier()\n",
    "}"
   ]
  },
  {
   "cell_type": "code",
   "execution_count": 131,
   "metadata": {},
   "outputs": [],
   "source": [
    "results = {}\n",
    "for name, model in models.items():\n",
    "    # Validação cruzada para avaliar desempenho\n",
    "    cv_scores = cross_val_score(model, X_train_resempled, y_train_resampled, cv=5)\n",
    "    model.fit(X_train_resempled, y_train_resampled)\n",
    "    y_pred = model.predict(X_test)\n",
    "    accuracy = accuracy_score(y_test, y_pred)\n",
    "    f1_Score = f1_score(y_test, y_pred)\n",
    "    precision_Score = precision_score(y_test, y_pred)\n",
    "    recall_Score = recall_score(y_test, y_pred)\n",
    "    results[name] = {\n",
    "        \"Cross-Validation Score (Mean)\": np.mean(cv_scores),\n",
    "        \"Acurácia\": round(accuracy * 100,2),\n",
    "        \"f1 score\": f1_Score,\n",
    "        \"precision score\": precision_Score,\n",
    "        \"recall score\" : recall_Score\n",
    "    }"
   ]
  },
  {
   "cell_type": "code",
   "execution_count": 132,
   "metadata": {},
   "outputs": [],
   "source": [
    "# Gradient Boosting\n",
    "bst = XGBClassifier(n_estimators=2, max_depth=2, learning_rate=1, objective='binary:logistic')\n",
    "bst.fit(X_train_resempled, y_train_resampled)\n",
    "preds = bst.predict(X_test)\n",
    "accuracy_bst = accuracy_score(y_test, preds)\n",
    "f1_Score_bst = f1_score(y_test, preds)\n",
    "precision_Score_bst = precision_score(y_test, y_pred)\n",
    "recall_Score_bst = recall_score(y_test, y_pred)"
   ]
  },
  {
   "cell_type": "code",
   "execution_count": 133,
   "metadata": {},
   "outputs": [],
   "source": [
    "results['Gradient Boosting'] = {\n",
    "    \"Cross-Validation Score (Mean)\": 0,\n",
    "    \"Acurácia\": round(accuracy_bst * 100,2),\n",
    "    \"f1 score\": f1_Score_bst,\n",
    "    \"precision score\": precision_Score_bst,\n",
    "    \"recall score\" : recall_Score_bst    \n",
    "}"
   ]
  },
  {
   "cell_type": "code",
   "execution_count": 134,
   "metadata": {},
   "outputs": [
    {
     "data": {
      "text/html": [
       "<div>\n",
       "<style scoped>\n",
       "    .dataframe tbody tr th:only-of-type {\n",
       "        vertical-align: middle;\n",
       "    }\n",
       "\n",
       "    .dataframe tbody tr th {\n",
       "        vertical-align: top;\n",
       "    }\n",
       "\n",
       "    .dataframe thead th {\n",
       "        text-align: right;\n",
       "    }\n",
       "</style>\n",
       "<table border=\"1\" class=\"dataframe\">\n",
       "  <thead>\n",
       "    <tr style=\"text-align: right;\">\n",
       "      <th></th>\n",
       "      <th>Cross-Validation Score (Mean)</th>\n",
       "      <th>Acurácia</th>\n",
       "      <th>f1 score</th>\n",
       "      <th>precision score</th>\n",
       "      <th>recall score</th>\n",
       "    </tr>\n",
       "  </thead>\n",
       "  <tbody>\n",
       "    <tr>\n",
       "      <th>Random Forest</th>\n",
       "      <td>0.981946</td>\n",
       "      <td>96.49</td>\n",
       "      <td>0.978947</td>\n",
       "      <td>0.981530</td>\n",
       "      <td>0.976378</td>\n",
       "    </tr>\n",
       "    <tr>\n",
       "      <th>Support Vector Machine</th>\n",
       "      <td>0.580327</td>\n",
       "      <td>95.39</td>\n",
       "      <td>0.972692</td>\n",
       "      <td>0.963918</td>\n",
       "      <td>0.981627</td>\n",
       "    </tr>\n",
       "    <tr>\n",
       "      <th>Logistic Regression</th>\n",
       "      <td>0.966187</td>\n",
       "      <td>96.49</td>\n",
       "      <td>0.978836</td>\n",
       "      <td>0.986667</td>\n",
       "      <td>0.971129</td>\n",
       "    </tr>\n",
       "    <tr>\n",
       "      <th>Decision Tree</th>\n",
       "      <td>0.961271</td>\n",
       "      <td>95.39</td>\n",
       "      <td>0.972549</td>\n",
       "      <td>0.968750</td>\n",
       "      <td>0.976378</td>\n",
       "    </tr>\n",
       "    <tr>\n",
       "      <th>K-Nearest Neighbors</th>\n",
       "      <td>0.974721</td>\n",
       "      <td>94.30</td>\n",
       "      <td>0.965147</td>\n",
       "      <td>0.986301</td>\n",
       "      <td>0.944882</td>\n",
       "    </tr>\n",
       "    <tr>\n",
       "      <th>Gradient Boosting</th>\n",
       "      <td>0.000000</td>\n",
       "      <td>90.79</td>\n",
       "      <td>0.942779</td>\n",
       "      <td>0.986301</td>\n",
       "      <td>0.944882</td>\n",
       "    </tr>\n",
       "  </tbody>\n",
       "</table>\n",
       "</div>"
      ],
      "text/plain": [
       "                        Cross-Validation Score (Mean)  Acurácia  f1 score  \\\n",
       "Random Forest                                0.981946     96.49  0.978947   \n",
       "Support Vector Machine                       0.580327     95.39  0.972692   \n",
       "Logistic Regression                          0.966187     96.49  0.978836   \n",
       "Decision Tree                                0.961271     95.39  0.972549   \n",
       "K-Nearest Neighbors                          0.974721     94.30  0.965147   \n",
       "Gradient Boosting                            0.000000     90.79  0.942779   \n",
       "\n",
       "                        precision score  recall score  \n",
       "Random Forest                  0.981530      0.976378  \n",
       "Support Vector Machine         0.963918      0.981627  \n",
       "Logistic Regression            0.986667      0.971129  \n",
       "Decision Tree                  0.968750      0.976378  \n",
       "K-Nearest Neighbors            0.986301      0.944882  \n",
       "Gradient Boosting              0.986301      0.944882  "
      ]
     },
     "execution_count": 134,
     "metadata": {},
     "output_type": "execute_result"
    }
   ],
   "source": [
    "results_df = pd.DataFrame(results).T\n",
    "results_df"
   ]
  },
  {
   "cell_type": "code",
   "execution_count": 135,
   "metadata": {},
   "outputs": [],
   "source": [
    "results_df.to_csv('../datasets/model_resport.csv', sep=';')"
   ]
  },
  {
   "cell_type": "code",
   "execution_count": 136,
   "metadata": {},
   "outputs": [
    {
     "name": "stdout",
     "output_type": "stream",
     "text": [
      "\n",
      "Melhor modelo: Random Forest\n"
     ]
    }
   ],
   "source": [
    "# Melhor modelo baseado na métrica de validação cruzada\n",
    "best_model_name = results_df[\"f1 score\"].idxmax()\n",
    "best_model = models[best_model_name]\n",
    "print(f\"\\nMelhor modelo: {best_model_name}\")"
   ]
  },
  {
   "cell_type": "code",
   "execution_count": 137,
   "metadata": {},
   "outputs": [
    {
     "name": "stdout",
     "output_type": "stream",
     "text": [
      "Melhor modelo salvo como: ../best_model_random_forest.pkl\n"
     ]
    }
   ],
   "source": [
    "filename = f\"../best_model_{best_model_name.replace(' ', '_').lower()}.pkl\"\n",
    "joblib.dump(best_model, filename)\n",
    "print(f\"Melhor modelo salvo como: {filename}\")"
   ]
  },
  {
   "cell_type": "code",
   "execution_count": 138,
   "metadata": {},
   "outputs": [],
   "source": [
    "loaded_model = joblib.load(filename)"
   ]
  },
  {
   "cell_type": "code",
   "execution_count": 148,
   "metadata": {},
   "outputs": [],
   "source": [
    "dados = {'ANO':2024,\n",
    "'IAA':2,\n",
    "'IEG':3,\n",
    "'IPS':4,\n",
    "'IDA':5,\n",
    "'IPP':6,\n",
    "'IPV':7,\n",
    "'IAN':1}\n",
    "\n",
    "df_modelo = pd.DataFrame([dados])"
   ]
  },
  {
   "cell_type": "code",
   "execution_count": 149,
   "metadata": {},
   "outputs": [],
   "source": [
    "pred = loaded_model.predict(df_modelo)\n",
    "pred_proba = loaded_model.predict_proba(df_modelo)"
   ]
  },
  {
   "cell_type": "code",
   "execution_count": 151,
   "metadata": {},
   "outputs": [
    {
     "data": {
      "text/plain": [
       "np.int64(0)"
      ]
     },
     "metadata": {},
     "output_type": "display_data"
    },
    {
     "data": {
      "text/plain": [
       "np.float64(0.16)"
      ]
     },
     "metadata": {},
     "output_type": "display_data"
    }
   ],
   "source": [
    "display(pred[0])\n",
    "display(pred_proba[0][1])"
   ]
  },
  {
   "cell_type": "code",
   "execution_count": null,
   "metadata": {},
   "outputs": [],
   "source": []
  }
 ],
 "metadata": {
  "kernelspec": {
   "display_name": "venv",
   "language": "python",
   "name": "python3"
  },
  "language_info": {
   "codemirror_mode": {
    "name": "ipython",
    "version": 3
   },
   "file_extension": ".py",
   "mimetype": "text/x-python",
   "name": "python",
   "nbconvert_exporter": "python",
   "pygments_lexer": "ipython3",
   "version": "3.12.2"
  }
 },
 "nbformat": 4,
 "nbformat_minor": 2
}
